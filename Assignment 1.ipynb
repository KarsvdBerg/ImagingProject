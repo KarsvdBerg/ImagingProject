{
 "cells": [
  {
   "cell_type": "markdown",
   "metadata": {},
   "source": [
    "# Assignment 2: Neural networks for classification\n",
    "\n",
    "The goal of this assignment is to get familiar with the Keras neural networks API. You will implement a neural network for (non-medical) image classification example — classification of images of handwritten digits, and perform some basic experiments and analysis. \n",
    "\n",
    "In this assignment, you will run trough Python code that demonstrates how to train a neural network for handwritten digit recognition. For this purpose, we are going to use the well-known [MNIST dataset](http://yann.lecun.com/exdb/mnist/).\n",
    "\n",
    "The neural network is implemented in the Keras neural networks API. An overview of the Keras API was given during the introductory lectures. More details can be found in the [Keras API documentation](https://keras.io/).\n",
    "\n",
    "### Preliminaries\n",
    "\n",
    "The first step in the implementation is to import all the Python modules that will be used throughout the code:\n"
   ]
  },
